{
 "nbformat": 4,
 "nbformat_minor": 0,
 "metadata": {
  "colab": {
   "provenance": []
  },
  "kernelspec": {
   "name": "python3",
   "display_name": "Python 3 (ipykernel)",
   "language": "python"
  },
  "language_info": {
   "name": "python"
  }
 },
 "cells": [
  {
   "cell_type": "markdown",
   "source": [
    "# **下載資料**"
   ],
   "metadata": {
    "id": "nVraEN2vaX24"
   }
  },
  {
   "cell_type": "code",
   "source": [
    "import requests\n",
    "import csv\n",
    "import os\n",
    "\n",
    "# os.chdir('/content/drive/MyDrive/Colab Notebooks')\n",
    "# 開啟 CSV 檔案以供寫入，並加入編碼參數以確保中文正確顯示\n",
    "with open('csv-aqi.csv', 'w', newline='', encoding='utf-8') as csvfile:\n",
    "    csv_write = csv.writer(csvfile)  # 設定 csv_write 為寫入\n",
    "\n",
    "    url = \"https://data.epa.gov.tw/api/v2/aqx_p_432?api_key=e8dd42e6-9b8b-43f8-991e-b3dee723a52d&limit=1000&sort=ImportDate%20desc&format=JSON\"\n",
    "\n",
    "    try:\n",
    "        # 取得 API 資料\n",
    "        response = requests.get(url)\n",
    "        response.raise_for_status()  # 如果狀態碼不是 200，則會引發異常\n",
    "\n",
    "        # 將回應解析為 JSON 格式\n",
    "        data_json = response.json()\n",
    "\n",
    "        # 準備寫入 CSV 的資料\n",
    "        output = [['縣市', '測站', 'aqi', 'pm2.5' ,'空氣品質','資料發布時間']]\n",
    "        for record in data_json['records']:\n",
    "            output.append([record['county'], record['sitename'], record['aqi'], record['pm2.5'] ,record['status'],record['publishtime']])\n",
    "            \n",
    "            # print([record['county'], record['sitename'], record['aqi'], record['pm2.5'] ,record['status'],record['publishtime']])\n",
    "        # 寫入 CSV\n",
    "        csv_write.writerows(output)\n",
    "        print(\"資料已成功寫入 CSV 檔案。\")\n",
    "\n",
    "    except requests.exceptions.RequestException as e:\n",
    "        print(\"發生錯誤，無法取得資料:\", e)\n"
   ],
   "metadata": {
    "colab": {
     "base_uri": "https://localhost:8080/"
    },
    "id": "KRf70wlySHoU",
    "outputId": "d343ef28-6cfe-4d44-c2f9-cbc76e090ee6",
    "ExecuteTime": {
     "end_time": "2024-05-19T17:39:07.822214Z",
     "start_time": "2024-05-19T17:39:06.896264Z"
    }
   },
   "outputs": [
    {
     "name": "stdout",
     "output_type": "stream",
     "text": [
      "資料已成功寫入 CSV 檔案。\n"
     ]
    }
   ],
   "execution_count": 27
  },
  {
   "cell_type": "markdown",
   "source": [
    "# **測試輸出前5筆**"
   ],
   "metadata": {
    "id": "XuQlYFtsafVX"
   }
  },
  {
   "cell_type": "code",
   "source": [
    "import pandas as pd\n",
    "df=pd.read_csv('csv-aqi.csv')\n",
    "\n",
    "\n",
    "df.head()"
   ],
   "metadata": {
    "colab": {
     "base_uri": "https://localhost:8080/",
     "height": 206
    },
    "id": "1ikeOx5tOzaL",
    "outputId": "648c8219-a0ad-41d2-9251-cd642977871f",
    "ExecuteTime": {
     "end_time": "2024-05-19T17:39:52.372634Z",
     "start_time": "2024-05-19T17:39:52.364635Z"
    }
   },
   "outputs": [
    {
     "data": {
      "text/plain": [
       "    縣市  測站  aqi  pm2.5 空氣品質               資料發布時間\n",
       "0  基隆市  基隆   32      0   良好  2024/05/20 01:00:00\n",
       "1  新北市  汐止   28      1   良好  2024/05/20 01:00:00\n",
       "2  新北市  萬里   28      0   良好  2024/05/20 01:00:00\n",
       "3  新北市  新店   28      7   良好  2024/05/20 01:00:00\n",
       "4  新北市  土城   31      7   良好  2024/05/20 01:00:00"
      ],
      "text/html": [
       "<div>\n",
       "<style scoped>\n",
       "    .dataframe tbody tr th:only-of-type {\n",
       "        vertical-align: middle;\n",
       "    }\n",
       "\n",
       "    .dataframe tbody tr th {\n",
       "        vertical-align: top;\n",
       "    }\n",
       "\n",
       "    .dataframe thead th {\n",
       "        text-align: right;\n",
       "    }\n",
       "</style>\n",
       "<table border=\"1\" class=\"dataframe\">\n",
       "  <thead>\n",
       "    <tr style=\"text-align: right;\">\n",
       "      <th></th>\n",
       "      <th>縣市</th>\n",
       "      <th>測站</th>\n",
       "      <th>aqi</th>\n",
       "      <th>pm2.5</th>\n",
       "      <th>空氣品質</th>\n",
       "      <th>資料發布時間</th>\n",
       "    </tr>\n",
       "  </thead>\n",
       "  <tbody>\n",
       "    <tr>\n",
       "      <th>0</th>\n",
       "      <td>基隆市</td>\n",
       "      <td>基隆</td>\n",
       "      <td>32</td>\n",
       "      <td>0</td>\n",
       "      <td>良好</td>\n",
       "      <td>2024/05/20 01:00:00</td>\n",
       "    </tr>\n",
       "    <tr>\n",
       "      <th>1</th>\n",
       "      <td>新北市</td>\n",
       "      <td>汐止</td>\n",
       "      <td>28</td>\n",
       "      <td>1</td>\n",
       "      <td>良好</td>\n",
       "      <td>2024/05/20 01:00:00</td>\n",
       "    </tr>\n",
       "    <tr>\n",
       "      <th>2</th>\n",
       "      <td>新北市</td>\n",
       "      <td>萬里</td>\n",
       "      <td>28</td>\n",
       "      <td>0</td>\n",
       "      <td>良好</td>\n",
       "      <td>2024/05/20 01:00:00</td>\n",
       "    </tr>\n",
       "    <tr>\n",
       "      <th>3</th>\n",
       "      <td>新北市</td>\n",
       "      <td>新店</td>\n",
       "      <td>28</td>\n",
       "      <td>7</td>\n",
       "      <td>良好</td>\n",
       "      <td>2024/05/20 01:00:00</td>\n",
       "    </tr>\n",
       "    <tr>\n",
       "      <th>4</th>\n",
       "      <td>新北市</td>\n",
       "      <td>土城</td>\n",
       "      <td>31</td>\n",
       "      <td>7</td>\n",
       "      <td>良好</td>\n",
       "      <td>2024/05/20 01:00:00</td>\n",
       "    </tr>\n",
       "  </tbody>\n",
       "</table>\n",
       "</div>"
      ]
     },
     "execution_count": 31,
     "metadata": {},
     "output_type": "execute_result"
    }
   ],
   "execution_count": 31
  },
  {
   "cell_type": "markdown",
   "source": [
    "# **查詢空氣品質不佳的地區(aqi>100)**"
   ],
   "metadata": {
    "id": "w56iVKD3au1L"
   }
  },
  {
   "cell_type": "code",
   "source": [
    "import pandas as pd\n",
    "\n",
    "# 讀取 CSV 檔案\n",
    "df = pd.read_csv('csv-aqi.csv')\n",
    "\n",
    "#  \"aqi\" 大於 100 的資料\n",
    "filtered_data = df[df['aqi'] > 100]\n",
    "\n",
    "# 如果沒有符合條件的資料，顯示\"各地空氣品質正常\"\n",
    "if filtered_data.empty:\n",
    "    print(\"各地空氣品質正常\")\n",
    "else:\n",
    "    print(filtered_data)"
   ],
   "metadata": {
    "id": "cRnsGBBAQ-Xx",
    "colab": {
     "base_uri": "https://localhost:8080/"
    },
    "outputId": "b89957dd-922f-446b-f1b5-9a177ac87dbb",
    "ExecuteTime": {
     "end_time": "2024-05-19T17:40:00.544351Z",
     "start_time": "2024-05-19T17:40:00.536984Z"
    }
   },
   "outputs": [
    {
     "name": "stdout",
     "output_type": "stream",
     "text": [
      "     縣市  測站  aqi  pm2.5      空氣品質               資料發布時間\n",
      "43  臺南市  善化  107     48  對敏感族群不健康  2024/05/20 01:00:00\n",
      "45  臺南市  臺南  108     48  對敏感族群不健康  2024/05/20 01:00:00\n"
     ]
    }
   ],
   "execution_count": 32
  },
  {
   "cell_type": "markdown",
   "source": [
    "# **生成臺北市測站的空氣品質指標散佈圖**"
   ],
   "metadata": {
    "id": "VmqEHZYPbVad"
   }
  },
  {
   "metadata": {
    "ExecuteTime": {
     "end_time": "2024-05-19T17:44:42.537278Z",
     "start_time": "2024-05-19T17:44:42.407520Z"
    }
   },
   "cell_type": "code",
   "source": [
    "from matplotlib.font_manager import FontProperties\n",
    "import pandas as pd\n",
    "import matplotlib.pyplot as plt\n",
    "\n",
    "# 指定中文字型\n",
    "font = FontProperties(fname='NotoSansTC-VariableFont_wght.ttf')\n",
    "# 讀取 CSV 檔案到 DataFrame\n",
    "df = pd.read_csv('csv-aqi.csv')\n",
    "\n",
    "# 過濾 \"county\" 為 \"臺北市\" 的資料\n",
    "taipei_data = df[df['縣市'] == '臺北市']\n",
    "\n",
    "# 繪製散佈圖\n",
    "plt.figure(figsize=(10, 6))\n",
    "plt.scatter(taipei_data['測站'], taipei_data['aqi'])\n",
    "plt.title('臺北市空氣品質指標 (AQI) 散佈圖', fontproperties=font)\n",
    "plt.xlabel('站點名稱', fontproperties=font)\n",
    "plt.ylabel('AQI',fontproperties=font)\n",
    "plt.xticks(rotation=45, ha='right',fontproperties=font)  # 旋轉 x 軸標籤，使其更清晰可讀\n",
    "plt.tight_layout()\n",
    "plt.show()"
   ],
   "outputs": [
    {
     "data": {
      "text/plain": [
       "<Figure size 1000x600 with 1 Axes>"
      ],
      "image/png": "[encoded data removed]"
     },
     "metadata": {},
     "output_type": "display_data"
    }
   ],
   "execution_count": 33
  },
  {
   "metadata": {},
   "cell_type": "markdown",
   "source": ""
  }
 ]
}
